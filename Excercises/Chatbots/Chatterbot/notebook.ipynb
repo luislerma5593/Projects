{
 "cells": [
  {
   "cell_type": "code",
   "execution_count": 6,
   "metadata": {},
   "outputs": [],
   "source": [
    "from chatterbot import ChatBot"
   ]
  },
  {
   "cell_type": "code",
   "execution_count": 9,
   "metadata": {},
   "outputs": [],
   "source": [
    "# Create object of ChatBot class\n",
    "bot = ChatBot('MyChatBot')"
   ]
  },
  {
   "cell_type": "code",
   "execution_count": 10,
   "metadata": {},
   "outputs": [],
   "source": [
    "from chatterbot import ChatBot\n",
    "\n",
    "# Create a chatbot with SQL storage\n",
    "bot = ChatBot(\n",
    "    'MyChatBot',\n",
    "    storage_adapter='chatterbot.storage.SQLStorageAdapter',\n",
    "    database_uri='sqlite:///database.sqlite3'\n",
    ")"
   ]
  },
  {
   "cell_type": "code",
   "execution_count": null,
   "metadata": {},
   "outputs": [
    {
     "ename": "AttributeError",
     "evalue": "'str' object has no attribute 'show_training_progress'",
     "output_type": "error",
     "traceback": [
      "\u001b[1;31m---------------------------------------------------------------------------\u001b[0m",
      "\u001b[1;31mAttributeError\u001b[0m                            Traceback (most recent call last)",
      "Cell \u001b[1;32mIn[12], line 4\u001b[0m\n\u001b[0;32m      1\u001b[0m \u001b[38;5;28;01mfrom\u001b[39;00m \u001b[38;5;21;01mchatterbot\u001b[39;00m\u001b[38;5;21;01m.\u001b[39;00m\u001b[38;5;21;01mtrainers\u001b[39;00m \u001b[38;5;28;01mimport\u001b[39;00m ChatterBotCorpusTrainer\n\u001b[0;32m      3\u001b[0m \u001b[38;5;66;03m# Train the chatbot with the English corpus\u001b[39;00m\n\u001b[1;32m----> 4\u001b[0m \u001b[43mChatterBotCorpusTrainer\u001b[49m\u001b[38;5;241;43m.\u001b[39;49m\u001b[43mtrain\u001b[49m\u001b[43m(\u001b[49m\u001b[38;5;124;43m\"\u001b[39;49m\u001b[38;5;124;43mchatterbot.corpus.english\u001b[39;49m\u001b[38;5;124;43m\"\u001b[39;49m\u001b[43m)\u001b[49m\n",
      "File \u001b[1;32mc:\\Users\\Lenovo\\Envs\\llms_env\\Lib\\site-packages\\chatterbot\\trainers.py:138\u001b[0m, in \u001b[0;36mChatterBotCorpusTrainer.train\u001b[1;34m(self, *corpus_paths)\u001b[0m\n\u001b[0;32m    132\u001b[0m \u001b[38;5;28;01mfor\u001b[39;00m corpus_path \u001b[38;5;129;01min\u001b[39;00m corpus_paths:\n\u001b[0;32m    133\u001b[0m     data_file_paths\u001b[38;5;241m.\u001b[39mextend(list_corpus_files(corpus_path))\n\u001b[0;32m    135\u001b[0m \u001b[38;5;28;01mfor\u001b[39;00m corpus, categories, _file_path \u001b[38;5;129;01min\u001b[39;00m tqdm(\n\u001b[0;32m    136\u001b[0m     load_corpus(\u001b[38;5;241m*\u001b[39mdata_file_paths),\n\u001b[0;32m    137\u001b[0m     desc\u001b[38;5;241m=\u001b[39m\u001b[38;5;124m'\u001b[39m\u001b[38;5;124mChatterBot Corpus Trainer\u001b[39m\u001b[38;5;124m'\u001b[39m,\n\u001b[1;32m--> 138\u001b[0m     disable\u001b[38;5;241m=\u001b[39m\u001b[38;5;129;01mnot\u001b[39;00m \u001b[38;5;28;43mself\u001b[39;49m\u001b[38;5;241;43m.\u001b[39;49m\u001b[43mshow_training_progress\u001b[49m\n\u001b[0;32m    139\u001b[0m ):\n\u001b[0;32m    140\u001b[0m     statements_to_create \u001b[38;5;241m=\u001b[39m []\n\u001b[0;32m    142\u001b[0m     \u001b[38;5;66;03m# Train the chat bot with each statement and response pair\u001b[39;00m\n",
      "\u001b[1;31mAttributeError\u001b[0m: 'str' object has no attribute 'show_training_progress'"
     ]
    }
   ],
   "source": [
    "from chatterbot.trainers import ChatterBotCorpusTrainer\n",
    " \n",
    "# Train the chatbot with the English corpus\n",
    "ChatterBotCorpusTrainer.train(\"chatterbot.corpus.english\", )"
   ]
  },
  {
   "cell_type": "code",
   "execution_count": null,
   "metadata": {},
   "outputs": [],
   "source": [
    "chatbot = ChatBot(\n",
    "    'MyBot',\n",
    "    logic_adapters=[\n",
    "        'chatterbot.logic.BestMatch'\n",
    "    ]\n",
    ")"
   ]
  },
  {
   "cell_type": "code",
   "execution_count": null,
   "metadata": {},
   "outputs": [],
   "source": []
  }
 ],
 "metadata": {
  "kernelspec": {
   "display_name": "llms_env",
   "language": "python",
   "name": "python3"
  },
  "language_info": {
   "codemirror_mode": {
    "name": "ipython",
    "version": 3
   },
   "file_extension": ".py",
   "mimetype": "text/x-python",
   "name": "python",
   "nbconvert_exporter": "python",
   "pygments_lexer": "ipython3",
   "version": "3.12.9"
  }
 },
 "nbformat": 4,
 "nbformat_minor": 2
}
