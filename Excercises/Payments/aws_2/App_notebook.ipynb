{
 "cells": [
  {
   "cell_type": "code",
   "execution_count": 2,
   "source": [
    "from flask import Flask\r\n",
    "from flask_sqlalchemy import SQLAlchemy"
   ],
   "outputs": [],
   "metadata": {}
  },
  {
   "cell_type": "code",
   "execution_count": 21,
   "source": [
    "from app import db\r\n",
    "db.create_all()"
   ],
   "outputs": [],
   "metadata": {}
  },
  {
   "cell_type": "code",
   "execution_count": null,
   "source": [
    "from app import Equipos"
   ],
   "outputs": [],
   "metadata": {}
  },
  {
   "cell_type": "code",
   "execution_count": 22,
   "source": [
    "Barcelona = Equipos(nombre=\"Barcelona\", pais = \"España\")\r\n",
    "Atletico  = Equipos(nombre=\"Atleti\", pais=\"España\")\r\n",
    "\r\n",
    "db.session.add(Barcelona)\r\n",
    "db.session.add(Atletico)"
   ],
   "outputs": [],
   "metadata": {}
  },
  {
   "cell_type": "code",
   "execution_count": null,
   "source": [
    "db.session.commit()"
   ],
   "outputs": [],
   "metadata": {}
  },
  {
   "cell_type": "code",
   "execution_count": null,
   "source": [
    "db.session.commit() "
   ],
   "outputs": [],
   "metadata": {}
  }
 ],
 "metadata": {
  "kernelspec": {
   "name": "python3",
   "display_name": "Python 3.8.5 64-bit ('venv': venv)"
  },
  "language_info": {
   "codemirror_mode": {
    "name": "ipython",
    "version": 3
   },
   "file_extension": ".py",
   "mimetype": "text/x-python",
   "name": "python",
   "nbconvert_exporter": "python",
   "pygments_lexer": "ipython3",
   "version": "3.8.5"
  },
  "interpreter": {
   "hash": "bf614d7acc6fe911f1183bbe3961e9218e829efaa1418fb78b7d9b4aed3a9c04"
  }
 },
 "nbformat": 4,
 "nbformat_minor": 5
}